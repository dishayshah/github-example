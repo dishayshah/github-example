{
 "cells": [
  {
   "cell_type": "code",
   "execution_count": 5,
   "metadata": {},
   "outputs": [
    {
     "ename": "ModuleNotFoundError",
     "evalue": "No module named 'requests'",
     "output_type": "error",
     "traceback": [
      "\u001b[0;31m---------------------------------------------------------------------------\u001b[0m",
      "\u001b[0;31mModuleNotFoundError\u001b[0m                       Traceback (most recent call last)",
      "\u001b[0;32m<ipython-input-5-a28f061fa444>\u001b[0m in \u001b[0;36m<module>\u001b[0;34m\u001b[0m\n\u001b[0;32m----> 1\u001b[0;31m \u001b[0;32mimport\u001b[0m \u001b[0mrequests\u001b[0m\u001b[0;34m\u001b[0m\u001b[0;34m\u001b[0m\u001b[0m\n\u001b[0m\u001b[1;32m      2\u001b[0m \u001b[0;32mfrom\u001b[0m \u001b[0mbs4\u001b[0m \u001b[0;32mimport\u001b[0m \u001b[0mBeautifulSoup\u001b[0m\u001b[0;34m\u001b[0m\u001b[0;34m\u001b[0m\u001b[0m\n\u001b[1;32m      3\u001b[0m \u001b[0;32mimport\u001b[0m \u001b[0mcsv\u001b[0m\u001b[0;34m\u001b[0m\u001b[0;34m\u001b[0m\u001b[0m\n\u001b[1;32m      4\u001b[0m \u001b[0;32mimport\u001b[0m \u001b[0mjson\u001b[0m\u001b[0;34m\u001b[0m\u001b[0;34m\u001b[0m\u001b[0m\n\u001b[1;32m      5\u001b[0m \u001b[0;32mimport\u001b[0m \u001b[0mxml\u001b[0m\u001b[0;34m\u001b[0m\u001b[0;34m\u001b[0m\u001b[0m\n",
      "\u001b[0;31mModuleNotFoundError\u001b[0m: No module named 'requests'"
     ]
    }
   ],
   "source": [
    "import requests\n",
    "from bs4 import BeautifulSoup\n",
    "import csv\n",
    "import json\n",
    "import xml\n",
    "import pandas as pd"
   ]
  },
  {
   "cell_type": "code",
   "execution_count": null,
   "metadata": {},
   "outputs": [],
   "source": [
    "website_url = requests.get('https://en.wikipedia.org/wiki/List_of_postal_codes_of_Canada:_M').text\n"
   ]
  },
  {
   "cell_type": "code",
   "execution_count": null,
   "metadata": {},
   "outputs": [],
   "source": [
    "from bs4 import BeautifulSoup\n",
    "\n",
    "soup = BeautifulSoup(website_url,'lxml') # make Soup using URL\n",
    "\n",
    "print(soup.prettify())"
   ]
  },
  {
   "cell_type": "code",
   "execution_count": null,
   "metadata": {},
   "outputs": [],
   "source": [
    "neighborhood = soup.find('table', class_ = 'wikitable')\n",
    "neighborhood_rows = neighborhood.find_all('tr')"
   ]
  },
  {
   "cell_type": "code",
   "execution_count": null,
   "metadata": {},
   "outputs": [],
   "source": [
    "information = []\n",
    "for row in neighborhood_rows:\n",
    "    info = row.text.split('\\n')[1:-1] # remove empty str (the first and last items)\n",
    "    information.append(info)\n",
    "    \n",
    "information[0:20] #preview the first 20 rows"
   ]
  },
  {
   "cell_type": "markdown",
   "metadata": {},
   "source": [
    "### Turn info into a pandas dataframe\n"
   ]
  },
  {
   "cell_type": "code",
   "execution_count": null,
   "metadata": {},
   "outputs": [],
   "source": [
    "neighbor_df = pd.DataFrame(information[1:], columns=information[0])\n",
    "# where information[1:] contains each row of neighborhoods\n",
    "# and columns = information[0] gives the column names\n",
    "\n",
    "\n",
    "# Re-spell Neighbourhood as Neighborhood\n",
    "neighbor_df = neighbor_df.rename(columns={neighbor_df.columns[2]: \"Neighborhood\" })\n",
    "\n",
    "\n",
    "neighbor_df.head(20)\n"
   ]
  },
  {
   "cell_type": "code",
   "execution_count": null,
   "metadata": {},
   "outputs": [],
   "source": [
    "neighbor_df = neighbor_df[neighbor_df.Borough != 'Not assigned']\n",
    "\n",
    "neighbor_df.reset_index(drop=True, inplace=True)\n",
    "\n",
    "neighbor_df.head(20)"
   ]
  },
  {
   "cell_type": "code",
   "execution_count": 3,
   "metadata": {},
   "outputs": [
    {
     "ename": "NameError",
     "evalue": "name 'neighbor_df' is not defined",
     "output_type": "error",
     "traceback": [
      "\u001b[0;31m---------------------------------------------------------------------------\u001b[0m",
      "\u001b[0;31mNameError\u001b[0m                                 Traceback (most recent call last)",
      "\u001b[0;32m<ipython-input-3-c7314f6f6c78>\u001b[0m in \u001b[0;36m<module>\u001b[0;34m\u001b[0m\n\u001b[0;32m----> 1\u001b[0;31m \u001b[0mgrouped\u001b[0m \u001b[0;34m=\u001b[0m \u001b[0mneighbor_df\u001b[0m\u001b[0;34m.\u001b[0m\u001b[0mgroupby\u001b[0m\u001b[0;34m(\u001b[0m\u001b[0;34m[\u001b[0m\u001b[0;34m'Postcode'\u001b[0m\u001b[0;34m]\u001b[0m\u001b[0;34m)\u001b[0m \u001b[0;31m# group by Postcode\u001b[0m\u001b[0;34m\u001b[0m\u001b[0;34m\u001b[0m\u001b[0m\n\u001b[0m\u001b[1;32m      2\u001b[0m \u001b[0;34m\u001b[0m\u001b[0m\n\u001b[1;32m      3\u001b[0m \u001b[0;34m\u001b[0m\u001b[0m\n\u001b[1;32m      4\u001b[0m \u001b[0;31m# combine the neighborhoods grouped by postcode and into a new df\u001b[0m\u001b[0;34m\u001b[0m\u001b[0;34m\u001b[0m\u001b[0;34m\u001b[0m\u001b[0m\n\u001b[1;32m      5\u001b[0m \u001b[0mneighborhood_grouped\u001b[0m \u001b[0;34m=\u001b[0m \u001b[0mgrouped\u001b[0m\u001b[0;34m[\u001b[0m\u001b[0;34m'Neighborhood'\u001b[0m\u001b[0;34m]\u001b[0m\u001b[0;34m.\u001b[0m\u001b[0mapply\u001b[0m\u001b[0;34m(\u001b[0m\u001b[0;32mlambda\u001b[0m \u001b[0mx\u001b[0m\u001b[0;34m:\u001b[0m \u001b[0mx\u001b[0m\u001b[0;34m.\u001b[0m\u001b[0msum\u001b[0m\u001b[0;34m(\u001b[0m\u001b[0;34m)\u001b[0m\u001b[0;34m)\u001b[0m\u001b[0;34m\u001b[0m\u001b[0;34m\u001b[0m\u001b[0m\n",
      "\u001b[0;31mNameError\u001b[0m: name 'neighbor_df' is not defined"
     ]
    }
   ],
   "source": [
    "grouped = neighbor_df.groupby(['Postcode']) # group by Postcode\n",
    "\n",
    "\n",
    "# combine the neighborhoods grouped by postcode and into a new df\n",
    "neighborhood_grouped = grouped['Neighborhood'].apply(lambda x: x.sum()) \n",
    "# adds spaces and commas between neighborhoods\n",
    "neighborhood_grouped = grouped['Neighborhood'].apply(lambda x: \"%s\" % ', '.join(x))\n",
    "# matches a borough to each postcode\n",
    "borough_grouped = grouped['Borough'].apply(lambda x: set(x).pop())\n",
    "# turn borough_grouped and neighborhood_grouped into dataframes\n",
    "borough = borough_grouped.to_frame()\n",
    "neighborhood = neighborhood_grouped.to_frame()\n",
    "#combine the dataframe borough and the dataframe neighborhood into one dataframe\n",
    "grouped_final = borough.merge(neighborhood, on=\"Postcode\")\n",
    "\n",
    "grouped_final"
   ]
  },
  {
   "cell_type": "code",
   "execution_count": null,
   "metadata": {},
   "outputs": [],
   "source": [
    "print('The number of rows and columns in this final grouped dataframe is',grouped_final.shape)"
   ]
  },
  {
   "cell_type": "code",
   "execution_count": null,
   "metadata": {},
   "outputs": [],
   "source": [
    "geospatial_data = pd.read_csv('Geospatial_Coordinates.csv')\n",
    "\n",
    "geospatial_data.head()"
   ]
  },
  {
   "cell_type": "code",
   "execution_count": null,
   "metadata": {},
   "outputs": [],
   "source": [
    "geospatial_data = geospatial_data.rename(columns={geospatial_data.columns[0]: \"Postcode\" })\n"
   ]
  },
  {
   "cell_type": "code",
   "execution_count": null,
   "metadata": {},
   "outputs": [],
   "source": [
    "full_table = grouped_final.merge(geospatial_data, on = 'Postcode')\n",
    "\n",
    "full_table.head()"
   ]
  },
  {
   "cell_type": "markdown",
   "metadata": {},
   "source": [
    "### Explore and clustering the neighborhoods of toronto"
   ]
  },
  {
   "cell_type": "code",
   "execution_count": null,
   "metadata": {},
   "outputs": [],
   "source": [
    "!conda install -c conda-forge geopy --yes \n",
    "from geopy.geocoders import Nominatim # module to convert an address into latitude and longitude values\n",
    "\n",
    "# libraries for displaying images\n",
    "from IPython.display import Image \n",
    "from IPython.core.display import HTML \n",
    "\n",
    "!conda install -c conda-forge folium=0.5.0 --yes\n",
    "import folium # plotting library\n",
    "\n",
    "print('Folium installed')\n",
    "print('Libraries imported.')"
   ]
  },
  {
   "cell_type": "code",
   "execution_count": null,
   "metadata": {},
   "outputs": [],
   "source": [
    "# Matplotlib and associated plotting modules\n",
    "import matplotlib.cm as cm\n",
    "import matplotlib.colors as colors\n",
    "\n",
    "# import k-means from clustering stage\n",
    "from sklearn.cluster import KMeans\n",
    "\n",
    "import pandas as pd # library for data analsysis\n",
    "pd.set_option('display.max_columns', None)\n",
    "pd.set_option('display.max_rows', None)\n",
    "\n",
    "import json # library to handle JSON files\n",
    "import requests # library to handle requests\n",
    "from pandas.io.json import json_normalize # tranform JSON file into a pandas dataframe"
   ]
  },
  {
   "cell_type": "code",
   "execution_count": null,
   "metadata": {},
   "outputs": [],
   "source": [
    "print('The dataframe has {} boroughs and {} neighborhoods.'.format(\n",
    "        len(full_table['Borough'].unique()),\n",
    "        full_table['Neighborhood'].shape[0]\n",
    "    )\n",
    ")"
   ]
  },
  {
   "cell_type": "code",
   "execution_count": null,
   "metadata": {},
   "outputs": [],
   "source": [
    "address = 'Toronto, Ontario, Canada'\n",
    "\n",
    "geolocator = Nominatim(user_agent=\"TO_explorer\")\n",
    "location = geolocator.geocode(address)\n",
    "latitude = location.latitude\n",
    "longitude = location.longitude\n",
    "print('The geograpical coordinate of Toronto are {}, {}.'.format(latitude, longitude))"
   ]
  },
  {
   "cell_type": "code",
   "execution_count": null,
   "metadata": {},
   "outputs": [],
   "source": [
    "# create a map of Toronto\n",
    "map_toronto = folium.Map(location = [latitude, longitude], zoom_start = 10)\n",
    "\n",
    "#add neighborhood markers to the Toronto map\n",
    "for lat, long, bor, neigh in zip(full_table['Latitude'], full_table['Longitude'], \n",
    "                                 full_table['Borough'], full_table['Neighborhood']):\n",
    "    label = '{}, {}'.format(neigh, bor)\n",
    "    label = folium.Popup(label, parse_html=True)\n",
    "    folium.CircleMarker(\n",
    "        [lat, long],\n",
    "        radius = 7, \n",
    "        popup = label,\n",
    "        color = 'red',\n",
    "        fill = True,\n",
    "        fill_color = 'white',\n",
    "        fill_opacity = 0.7,\n",
    "        parse_html = False).add_to(map_toronto)\n",
    "        \n",
    "map_toronto"
   ]
  },
  {
   "cell_type": "code",
   "execution_count": null,
   "metadata": {},
   "outputs": [],
   "source": [
    "list_boroughs = full_table['Borough'].unique()\n",
    "list_boroughs"
   ]
  },
  {
   "cell_type": "code",
   "execution_count": null,
   "metadata": {},
   "outputs": [],
   "source": [
    "def borough_loc(list_of_places):\n",
    "    for place in list_of_places:\n",
    "        address = (place + \", Ontario, Canada\")\n",
    "        geolocator = Nominatim(user_agent=\"TO_explorer\")\n",
    "        location = geolocator.geocode(address)\n",
    "        latitude = location.latitude\n",
    "        longitude = location.longitude\n",
    "        print('{''}, {}, {},'.format(place,latitude,longitude))\n",
    "\n",
    "borough_loc(list_boroughs)"
   ]
  },
  {
   "cell_type": "code",
   "execution_count": null,
   "metadata": {},
   "outputs": [],
   "source": [
    "import numpy as np\n",
    "\n",
    "boroughs = ['Scarborough', 43.773077, -79.257774,\n",
    "'North York', 43.7708175, -79.4132998,\n",
    "'East York', 43.6913391, -79.3278212,\n",
    "'East Toronto', 43.653963, -79.387207,\n",
    "'Central Toronto', 43.653963, -79.387207,\n",
    "'Downtown Toronto', 43.655115, -79.380219,\n",
    "'York', 44.0007518, -79.4372217,\n",
    "'West Toronto', 43.653963, -79.387207,\n",
    "\"Queen's Park\", 43.6599803, -79.3903686,\n",
    "'Mississauga', 43.590338, -79.645729,\n",
    "'Etobicoke', 43.6435559, -79.5656326]\n",
    "\n",
    "boroughs_df = pd.DataFrame(np.array(boroughs).reshape(11,3), columns = [\"Borough\",\"Latitude\",\"Longitude\"])\n",
    "\n",
    "boroughs_df"
   ]
  },
  {
   "cell_type": "code",
   "execution_count": null,
   "metadata": {},
   "outputs": [],
   "source": [
    "boroughs_df.dtypes\n",
    "\n",
    "boroughs_df[\"Latitude\"] = pd.to_numeric(boroughs_df[\"Latitude\"])\n",
    "boroughs_df[\"Longitude\"] = pd.to_numeric(boroughs_df[\"Longitude\"])"
   ]
  },
  {
   "cell_type": "code",
   "execution_count": null,
   "metadata": {},
   "outputs": [],
   "source": [
    "\n",
    "# create a map of Toronto\n",
    "map_toronto_boroughs = folium.Map(location = [43.653963, -79.387207], zoom_start = 10)\n",
    "\n",
    "#add neighborhood markers to the Toronto map\n",
    "for lat, long, bor in zip(boroughs_df['Latitude'], boroughs_df['Longitude'], \n",
    "                                 boroughs_df['Borough']):\n",
    "    label = '{}'.format(bor)\n",
    "    label = folium.Popup(label, parse_html=True)\n",
    "    folium.CircleMarker(\n",
    "        [lat, long],\n",
    "        radius = 7, \n",
    "        popup = label,\n",
    "        color = 'red',\n",
    "        fill = True,\n",
    "        fill_color = 'white',\n",
    "        fill_opacity = 0.7,\n",
    "        parse_html = False).add_to(map_toronto_boroughs)\n",
    "        \n",
    "map_toronto_boroughs"
   ]
  },
  {
   "cell_type": "code",
   "execution_count": null,
   "metadata": {},
   "outputs": [],
   "source": [
    "full_table['Borough'].value_counts()"
   ]
  },
  {
   "cell_type": "code",
   "execution_count": null,
   "metadata": {},
   "outputs": [],
   "source": [
    "# The geographical coordinates for Downtown Toronto\n",
    "DT_lat = boroughs_df.iloc[5,1]\n",
    "DT_long = boroughs_df.iloc[5,2]\n",
    "\n",
    "# The dataframe that contains all the Downtown Toronto neighborhoods\n",
    "DT_df = full_table[full_table['Borough'] == 'Downtown Toronto'].reset_index(drop = True)\n",
    "\n",
    "# create map of Downtown Toronto neighborhoods using latitude and longitude values\n",
    "map_DT = folium.Map(location=[DT_lat, DT_long], zoom_start=12.4)\n",
    "\n",
    "# add markers to map\n",
    "for lat, lng, label in zip(DT_df['Latitude'], DT_df['Longitude'], DT_df['Neighborhood']):\n",
    "    label = folium.Popup(label, parse_html=True)\n",
    "    folium.CircleMarker(\n",
    "        [lat, lng],\n",
    "        radius=5,\n",
    "        popup=label,\n",
    "        color='red',\n",
    "        fill=True,\n",
    "        fill_color='#3186cc',\n",
    "        fill_opacity=0.7,\n",
    "        parse_html=False).add_to(map_DT)  \n",
    "    \n",
    "map_DT"
   ]
  },
  {
   "cell_type": "code",
   "execution_count": null,
   "metadata": {},
   "outputs": [],
   "source": []
  }
 ],
 "metadata": {
  "kernelspec": {
   "display_name": "Python 3",
   "language": "python",
   "name": "python3"
  },
  "language_info": {
   "codemirror_mode": {
    "name": "ipython",
    "version": 3
   },
   "file_extension": ".py",
   "mimetype": "text/x-python",
   "name": "python",
   "nbconvert_exporter": "python",
   "pygments_lexer": "ipython3",
   "version": "3.7.3"
  }
 },
 "nbformat": 4,
 "nbformat_minor": 2
}
